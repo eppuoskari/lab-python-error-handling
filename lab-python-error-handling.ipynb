{
 "cells": [
  {
   "cell_type": "markdown",
   "id": "25d7736c-ba17-4aff-b6bb-66eba20fbf4e",
   "metadata": {},
   "source": [
    "# Lab | Error Handling"
   ]
  },
  {
   "cell_type": "markdown",
   "id": "bc99b386-7508-47a0-bcdb-d969deaf6c8b",
   "metadata": {},
   "source": [
    "## Exercise: Error Handling for Managing Customer Orders\n",
    "\n",
    "The implementation of your code for managing customer orders assumes that the user will always enter a valid input. \n",
    "\n",
    "For example, we could modify the `initialize_inventory` function to include error handling.\n",
    "   - If the user enters an invalid quantity (e.g., a negative value or a non-numeric value), display an error message and ask them to re-enter the quantity for that product.\n",
    "   - Use a try-except block to handle the error and continue prompting the user until a valid quantity is entered.\n",
    "\n",
    "```python\n",
    "# Step 1: Define the function for initializing the inventory with error handling\n",
    "def initialize_inventory(products):\n",
    "    inventory = {}\n",
    "    for product in products:\n",
    "        valid_quantity = False\n",
    "        while not valid_quantity:\n",
    "            try:\n",
    "                quantity = int(input(f\"Enter the quantity of {product}s available: \"))\n",
    "                if quantity < 0:\n",
    "                    raise ValueError(\"Invalid quantity! Please enter a non-negative value.\")\n",
    "                valid_quantity = True\n",
    "            except ValueError as error:\n",
    "                print(f\"Error: {error}\")\n",
    "        inventory[product] = quantity\n",
    "    return inventory\n",
    "\n",
    "# Or, in another way:\n",
    "\n",
    "def initialize_inventory(products):\n",
    "    inventory = {}\n",
    "    for product in products:\n",
    "        valid_input = False\n",
    "        while not valid_input:\n",
    "            try:\n",
    "                quantity = int(input(f\"Enter the quantity of {product}s available: \"))\n",
    "                if quantity >= 0:\n",
    "                    inventory[product] = quantity\n",
    "                    valid_input = True\n",
    "                else:\n",
    "                    print(\"Quantity cannot be negative. Please enter a valid quantity.\")\n",
    "            except ValueError:\n",
    "                print(\"Invalid input. Please enter a valid quantity.\")\n",
    "    return inventory\n",
    "```\n",
    "\n",
    "Let's enhance your code by implementing error handling to handle invalid inputs.\n",
    "\n",
    "Follow the steps below to complete the exercise:\n",
    "\n",
    "2. Modify the `calculate_total_price` function to include error handling.\n",
    "   - If the user enters an invalid price (e.g., a negative value or a non-numeric value), display an error message and ask them to re-enter the price for that product.\n",
    "   - Use a try-except block to handle the error and continue prompting the user until a valid price is entered.\n",
    "\n",
    "3. Modify the `get_customer_orders` function to include error handling.\n",
    "   - If the user enters an invalid number of orders (e.g., a negative value or a non-numeric value), display an error message and ask them to re-enter the number of orders.\n",
    "   - If the user enters an invalid product name (e.g., a product name that is not in the inventory), or that doesn't have stock available, display an error message and ask them to re-enter the product name. *Hint: you will need to pass inventory as a parameter*\n",
    "   - Use a try-except block to handle the error and continue prompting the user until a valid product name is entered.\n",
    "\n",
    "4. Test your code by running the program and deliberately entering invalid quantities and product names. Make sure the error handling mechanism works as expected.\n"
   ]
  },
  {
   "cell_type": "code",
   "execution_count": 44,
   "id": "6611d885-8681-4d15-a0de-f21d294cd088",
   "metadata": {},
   "outputs": [
    {
     "name": "stdin",
     "output_type": "stream",
     "text": [
      "Enter the quantity of shirts available:  1\n",
      "Enter the quantity of mugs available:  2\n",
      "Enter the quantity of hats available:  3\n",
      "Enter the quantity of books available:  4\n",
      "Enter the quantity of keychains available:  5\n"
     ]
    }
   ],
   "source": [
    "products = [\"shirt\", \"mug\", \"hat\", \"book\", \"keychain\"]\n",
    "\n",
    "def initialize_inventory(products):\n",
    "    \"\"\" \n",
    "    Update the inventory by inputing the number of available products\n",
    "\n",
    "    Argument:\n",
    "    products\n",
    "\n",
    "    Return:\n",
    "    inventory\n",
    "    \"\"\"\n",
    "    inventory = {product: int(input(f\"Enter the quantity of {product}s available: \")) for product in products}\n",
    "    return inventory\n",
    "\n",
    "inventory = initialize_inventory(products)"
   ]
  },
  {
   "cell_type": "code",
   "execution_count": 45,
   "id": "c6897c3a-66ed-4a20-928f-5e001b8fbe28",
   "metadata": {},
   "outputs": [
    {
     "name": "stdin",
     "output_type": "stream",
     "text": [
      "Enter the number of customer orders:  1\n",
      "Enter the product #1 to order:  hat\n"
     ]
    },
    {
     "name": "stdout",
     "output_type": "stream",
     "text": [
      "['hat']\n"
     ]
    }
   ],
   "source": [
    "def get_customer_orders(inventory): \n",
    "    \"\"\"\n",
    "    Fill in the customer order by first determinin how many products they want, then inputing the product names\n",
    "    Function validates that the customer orders a valid amount (1-5 products) and\n",
    "    Checks for valid input, product needs to be part of the inventory and have more that 0 products avaolable\n",
    "    \n",
    "    Argument:\n",
    "    inventory\n",
    "\n",
    "    Return:\n",
    "    customer_orders    \n",
    "    \"\"\"\n",
    "    \n",
    "    valid_quantity = False # Checks for valid input, needs to be a number between 1 and 5\n",
    "    \n",
    "    while not valid_quantity:\n",
    "        try:\n",
    "            nro = int(input(\"Enter the number of customer orders: \"))\n",
    "            if 0 < nro < 6:\n",
    "                valid_quantity = True\n",
    "            else:\n",
    "                print(\"Quantity need to be between 1 and 5.\")\n",
    "        except ValueError as error:\n",
    "            print(\"Invalid input. Please enter a number between 1 and 5\")\n",
    "            \n",
    "    customer_orders = []\n",
    "    \n",
    "    for i in range(nro): # Checks for valid input, needs to be part of the inventory and value needs to be > 0\n",
    "        while True:\n",
    "            try:\n",
    "                product = input(f\"Enter the product #{i+1} to order: \").strip().lower()\n",
    "                if product not in inventory:\n",
    "                    print(\"Product not found in inventory. Please try again: \")\n",
    "                elif inventory[product] <= 0:\n",
    "                    print(\"Product is out of stock. Please choose another: \")\n",
    "                else:\n",
    "                    customer_orders.append(product)\n",
    "                    break  # Valid input, move to next \n",
    "            except Exception:\n",
    "                print(\"Unexpected error. Please try again.\")\n",
    "            \n",
    "    return customer_orders\n",
    "\n",
    "customer_orders = get_customer_orders(inventory)\n",
    "print(customer_orders)"
   ]
  },
  {
   "cell_type": "code",
   "execution_count": 46,
   "id": "dbb93708-7835-4e7e-83d4-136d4e2320de",
   "metadata": {},
   "outputs": [
    {
     "name": "stdout",
     "output_type": "stream",
     "text": [
      "{'shirt': 1, 'mug': 2, 'hat': 2, 'book': 4, 'keychain': 5}\n"
     ]
    }
   ],
   "source": [
    "def update_inventory(customer_orders, inventory):\n",
    "    \"\"\"\n",
    "    Updates the inventory by subtracting 1 from inventory if item is in customer_orders.\n",
    "    Will remove the item from inventory if there are no products left\n",
    "\n",
    "    Arguments:\n",
    "    customer_orders, inventory\n",
    "\n",
    "    Return:\n",
    "    customer_orders\n",
    "    \"\"\"\n",
    "    update_inventory = { key : (value - 1 if key in customer_orders else value) for key, value in inventory.items()\n",
    "                            if (value - 1 if key in customer_orders else value) > 0}                  \n",
    "    return(update_inventory)\n",
    "\n",
    "inventory = update_inventory(customer_orders, inventory)\n",
    "print(inventory)"
   ]
  },
  {
   "cell_type": "code",
   "execution_count": 47,
   "id": "f6c9147e-d36d-496f-893e-1e0b1d29855b",
   "metadata": {},
   "outputs": [
    {
     "name": "stdout",
     "output_type": "stream",
     "text": [
      "Order Statistics: \n",
      "Total products ordered:  1\n",
      "Percentage of unique products ordered:  20.0 %\n"
     ]
    }
   ],
   "source": [
    "# Calculate and print the order statistics\n",
    "\n",
    "def calculate_order_statistics(customer_orders, products):\n",
    "    \"\"\"\n",
    "    Calculate the following order statistics:\n",
    "    Total Products Ordered: The total number of products in the customer_orders set.\n",
    "    Percentage of Products Ordered: The percentage of products ordered compared to the total available products.\n",
    "    Store these statistics in a tuple called order_status. \n",
    "    \n",
    "    Arguments:\n",
    "    customer_orders, products\n",
    "\n",
    "    Return:\n",
    "    order_statistics\n",
    "    \"\"\"\n",
    "    total_products_ordered = len(customer_orders)\n",
    "    percentage_ordered = (total_products_ordered / len(products)) * 100\n",
    "    order_statistics = (total_products_ordered, percentage_ordered)\n",
    "    return order_statistics\n",
    "\n",
    "def print_order_statistics(order_statistics):\n",
    "    \"\"\"Print the order statistics\"\"\"\n",
    "    print(\"Order Statistics: \")\n",
    "    print(\"Total products ordered: \", order_statistics[0])\n",
    "    print(\"Percentage of unique products ordered: \", order_statistics[1],\"%\")\n",
    "\n",
    "print_order_statistics(\n",
    "    calculate_order_statistics(customer_orders, products))"
   ]
  },
  {
   "cell_type": "code",
   "execution_count": 49,
   "id": "9a509aca-f9b3-442e-be5e-5f051bdcaa5a",
   "metadata": {},
   "outputs": [
    {
     "name": "stdout",
     "output_type": "stream",
     "text": [
      "Updated inventory\n",
      "shirts: 1\n",
      "mugs: 2\n",
      "hats: 2\n",
      "books: 4\n",
      "keychains: 5\n"
     ]
    }
   ],
   "source": [
    "def print_updated_inventory(inventory):\n",
    "    \"\"\"Print the updated inventory\"\"\"\n",
    "    print(\"Updated inventory\")\n",
    "    [print(f\"{item}s: {inventory[item]}\") for item in inventory]\n",
    "\n",
    "print_updated_inventory(inventory)"
   ]
  },
  {
   "cell_type": "code",
   "execution_count": 50,
   "id": "076d4d47-89d9-468b-b07c-6ec28b213076",
   "metadata": {},
   "outputs": [
    {
     "name": "stdin",
     "output_type": "stream",
     "text": [
      "Enter the price of hat:  67\n"
     ]
    },
    {
     "name": "stdout",
     "output_type": "stream",
     "text": [
      "Total Price: 67.0\n"
     ]
    }
   ],
   "source": [
    "def total_price(customer_orders):\n",
    "    \"\"\"\n",
    "    Calculates the total price of the customer order. For each product in customer_orders, \n",
    "    function prompts the user to enter the price of that product.\n",
    "    \"\"\"\n",
    "    product_prices = {}\n",
    "    for product in customer_orders:\n",
    "        while True:\n",
    "            try:\n",
    "                price = float(input(f\"Enter the price of {product}: \"))\n",
    "                if price < 0:\n",
    "                    print(\"Price cannot be negative. Please enter a valid amount.\")\n",
    "                else:\n",
    "                    product_prices[product] = price\n",
    "                    break  # Valid input, move to next\n",
    "            except ValueError:\n",
    "                    print(\"Invalid input. Please enter a numeric value.\")\n",
    "\n",
    "    total = sum(price for price in product_prices.values()) # Calculate the total using a comprehension expression\n",
    "    \n",
    "    print(f\"Total Price: {total}\")\n",
    "\n",
    "total_price(customer_orders)"
   ]
  }
 ],
 "metadata": {
  "kernelspec": {
   "display_name": "Python [conda env:base] *",
   "language": "python",
   "name": "conda-base-py"
  },
  "language_info": {
   "codemirror_mode": {
    "name": "ipython",
    "version": 3
   },
   "file_extension": ".py",
   "mimetype": "text/x-python",
   "name": "python",
   "nbconvert_exporter": "python",
   "pygments_lexer": "ipython3",
   "version": "3.13.5"
  }
 },
 "nbformat": 4,
 "nbformat_minor": 5
}
